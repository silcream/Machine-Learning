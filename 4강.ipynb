{
 "cells": [
  {
   "cell_type": "code",
   "execution_count": 1,
   "id": "562944ca",
   "metadata": {},
   "outputs": [],
   "source": [
    "import os\n",
    "import tarfile\n",
    "from six.moves import urllib\n",
    "import pandas as pd"
   ]
  },
  {
   "cell_type": "code",
   "execution_count": 2,
   "id": "94ab05e8",
   "metadata": {},
   "outputs": [],
   "source": [
    "import warnings\n",
    "warnings.filterwarnings('ignore')"
   ]
  },
  {
   "cell_type": "code",
   "execution_count": 3,
   "id": "b9ddc641",
   "metadata": {},
   "outputs": [
    {
     "name": "stdout",
     "output_type": "stream",
     "text": [
      "New Gulim C:\\Windows\\Fonts\\NGULIM.TTF\n",
      "Gulim C:\\Windows\\Fonts\\gulim.ttc\n"
     ]
    }
   ],
   "source": [
    "from matplotlib import font_manager\n",
    "\n",
    "for font in font_manager.fontManager.ttflist:\n",
    "    if 'lim' in font.name:\n",
    "        print(font.name, font.fname)"
   ]
  },
  {
   "cell_type": "code",
   "execution_count": 4,
   "id": "8ee3e279",
   "metadata": {},
   "outputs": [],
   "source": [
    "# 파이썬 2와 파이썬 3 지원\n",
    "from __future__ import division, print_function, unicode_literals\n",
    "\n",
    "# 공통\n",
    "import numpy as np\n",
    "import os\n",
    "\n",
    "# 일관된 출력을 위해 유사난수 초기화\n",
    "np.random.seed(42)\n",
    "\n",
    "# 맷플롯립 설정\n",
    "%matplotlib inline\n",
    "import matplotlib\n",
    "import matplotlib.pyplot as plt\n",
    "plt.rcParams['axes.labelsize'] = 14\n",
    "plt.rcParams['xtick.labelsize'] = 12\n",
    "plt.rcParams['ytick.labelsize'] = 12\n",
    "\n"
   ]
  },
  {
   "cell_type": "markdown",
   "id": "5eb36f9c",
   "metadata": {},
   "source": [
    "## 정규방정식을 이용한 선형 회귀"
   ]
  },
  {
   "cell_type": "code",
   "execution_count": 5,
   "id": "3ca7c918",
   "metadata": {},
   "outputs": [],
   "source": [
    "import numpy as np\n",
    "X = 2*np.random.rand(100, 1)\n",
    "y = 4+3*X+np.random.rand(100, 1)"
   ]
  },
  {
   "cell_type": "code",
   "execution_count": 6,
   "id": "258f5b9c",
   "metadata": {},
   "outputs": [
    {
     "data": {
      "image/png": "[encoded data removed]",
      "text/plain": [
       "<Figure size 432x288 with 1 Axes>"
      ]
     },
     "metadata": {
      "needs_background": "light"
     },
     "output_type": "display_data"
    }
   ],
   "source": [
    "plt.plot(X, y, \"b.\")\n",
    "plt.xlabel(\"$x_1$\", fontsize=18)\n",
    "plt.ylabel(\"$y$\", rotation=0, fontsize=18)\n",
    "plt.axis([0, 2, 0, 15])\n",
    "plt.show()"
   ]
  },
  {
   "cell_type": "code",
   "execution_count": 7,
   "id": "9fa4d261",
   "metadata": {},
   "outputs": [],
   "source": [
    "X_b = np.c_[np.ones((100, 1)), X]  # 모든 샘플에 x0 = 1을 추가합니다.\n",
    "theta_best = np.linalg.inv(X_b.T.dot(X_b)).dot(X_b.T).dot(y)"
   ]
  },
  {
   "cell_type": "code",
   "execution_count": 8,
   "id": "04339b90",
   "metadata": {},
   "outputs": [
    {
     "data": {
      "text/plain": [
       "array([[4.51359766],\n",
       "       [2.98323418]])"
      ]
     },
     "execution_count": 8,
     "metadata": {},
     "output_type": "execute_result"
    }
   ],
   "source": [
    "theta_best"
   ]
  },
  {
   "cell_type": "markdown",
   "id": "35e4273e",
   "metadata": {},
   "source": [
    "#### 기댓값 : 4, 3 \n",
    "결과값 -> 정확하지 않음"
   ]
  },
  {
   "cell_type": "code",
   "execution_count": 9,
   "id": "8cf9b405",
   "metadata": {},
   "outputs": [
    {
     "data": {
      "text/plain": [
       "array([[ 4.51359766],\n",
       "       [10.48006601]])"
      ]
     },
     "execution_count": 9,
     "metadata": {},
     "output_type": "execute_result"
    }
   ],
   "source": [
    "X_new = np.array([[0], [2]])\n",
    "X_new_b = np.c_[np.ones((2, 1)), X_new]  # 모든 샘플에 x0 = 1을 추가합니다.\n",
    "y_predict = X_new_b.dot(theta_best)\n",
    "y_predict"
   ]
  },
  {
   "cell_type": "code",
   "execution_count": 10,
   "id": "f384ead6",
   "metadata": {},
   "outputs": [
    {
     "data": {
      "image/png": "[encoded data removed]",
      "text/plain": [
       "<Figure size 432x288 with 1 Axes>"
      ]
     },
     "metadata": {
      "needs_background": "light"
     },
     "output_type": "display_data"
    }
   ],
   "source": [
    "plt.plot(X_new, y_predict, \"r-\", linewidth=2, label=\"예측\")\n",
    "plt.plot(X, y, \"b.\")\n",
    "plt.xlabel(\"$x_1$\", fontsize=18)\n",
    "plt.ylabel(\"$y$\", rotation=0, fontsize=18)\n",
    "plt.legend(loc=\"upper left\", fontsize=14)\n",
    "plt.axis([0, 2, 0, 15])\n",
    "plt.show()"
   ]
  },
  {
   "cell_type": "code",
   "execution_count": 11,
   "id": "33069abc",
   "metadata": {},
   "outputs": [
    {
     "data": {
      "text/plain": [
       "(array([4.51359766]), array([[2.98323418]]))"
      ]
     },
     "execution_count": 11,
     "metadata": {},
     "output_type": "execute_result"
    }
   ],
   "source": [
    "from sklearn.linear_model import LinearRegression\n",
    "lin_reg = LinearRegression()\n",
    "lin_reg.fit(X, y)\n",
    "lin_reg.intercept_, lin_reg.coef_"
   ]
  },
  {
   "cell_type": "markdown",
   "id": "955f47cb",
   "metadata": {},
   "source": [
    "## 4.1.2 계산복잡도"
   ]
  },
  {
   "cell_type": "markdown",
   "id": "5c97fe01",
   "metadata": {},
   "source": [
    "특성 수가 매우 많아지면 정규방정식이 매우 느려짐 \\\n",
    "정규방정식의 시간복잡도는 샘플수/특성수에 선형적"
   ]
  },
  {
   "cell_type": "markdown",
   "id": "137884ce",
   "metadata": {},
   "source": [
    "## 4.2 경사하강법"
   ]
  },
  {
   "cell_type": "markdown",
   "id": "1b7cb9da",
   "metadata": {},
   "source": [
    "비용함수를 최소화 하기 위해 반복해서 피라미터 조정 \\ \n",
    "\n",
    "그래디언트가 감소하는 방향으로 진행 -> 0데 도달 -> 최솟값 \\ \n",
    "\n",
    "학습률 = 스텝의 크기 \\\n",
    "\n",
    "학습률이 너무 크면 전역최솟값보다 덜좋은 지역최솟값에 수렴"
   ]
  },
  {
   "cell_type": "markdown",
   "id": "d4370071",
   "metadata": {},
   "source": [
    "## 4.2.1 배치 경사 하강법"
   ]
  },
  {
   "cell_type": "markdown",
   "id": "b9667d3c",
   "metadata": {},
   "source": [
    "#### 편도함수\n",
    "\n",
    "각 모델 파라미터에 대해 비용함수의 그래디언트를 계산해야 함 \\\n",
    "-> 파라미터가 변경될 때 비용함수가 얼마나 바뀌는지를 계산해야 함"
   ]
  },
  {
   "cell_type": "markdown",
   "id": "385c2f42",
   "metadata": {},
   "source": [
    "매 경사 하강법 스텝에서 전체 훈련세트 x에 대해 계산 \\\n",
    "매 스텝에서 훈련데이터 전체를 사용"
   ]
  },
  {
   "cell_type": "code",
   "execution_count": 12,
   "id": "c6ff6e08",
   "metadata": {},
   "outputs": [],
   "source": [
    "eta = 0.1\n",
    "n_iterations = 1000\n",
    "m = 100\n",
    "\n",
    "theta = np.random.randn(2, 1)\n",
    "\n",
    "for iteration in range(n_iterations):\n",
    "    gradients = 2/m * X_b.T.dot(X_b.dot(theta)-y)\n",
    "    theta = theta - eta*gradients"
   ]
  },
  {
   "cell_type": "code",
   "execution_count": 13,
   "id": "dbdd9c0e",
   "metadata": {},
   "outputs": [
    {
     "data": {
      "text/plain": [
       "array([[4.51359766],\n",
       "       [2.98323418]])"
      ]
     },
     "execution_count": 13,
     "metadata": {},
     "output_type": "execute_result"
    }
   ],
   "source": [
    "theta"
   ]
  },
  {
   "cell_type": "markdown",
   "id": "19d4b94a",
   "metadata": {},
   "source": [
    "값이 정규방정식으로 찾은것과 같음"
   ]
  },
  {
   "cell_type": "markdown",
   "id": "64202191",
   "metadata": {},
   "source": [
    "### 학습률이 달라짐에 따른 경사하강법"
   ]
  },
  {
   "cell_type": "code",
   "execution_count": 14,
   "id": "d8b3eb57",
   "metadata": {},
   "outputs": [],
   "source": [
    "\n",
    "theta_path_bgd = []\n",
    "\n",
    "def plot_gradient_descent(theta, eta, theta_path=None):\n",
    "    m = len(X_b)\n",
    "    plt.plot(X, y, \"b.\")\n",
    "    n_iterations = 1000\n",
    "    for iteration in range(n_iterations):\n",
    "        if iteration < 10:\n",
    "            y_predict = X_new_b.dot(theta)\n",
    "            style = \"b-\" if iteration > 0 else \"r--\"\n",
    "            plt.plot(X_new, y_predict, style)\n",
    "        gradients = 2/m * X_b.T.dot(X_b.dot(theta) - y)\n",
    "        theta = theta - eta * gradients\n",
    "        if theta_path is not None:\n",
    "            theta_path.append(theta)\n",
    "    plt.xlabel(\"$x_1$\", fontsize=18)\n",
    "    plt.axis([0, 2, 0, 15])\n",
    "    plt.title(r\"$\\eta = {}$\".format(eta), fontsize=16)"
   ]
  },
  {
   "cell_type": "code",
   "execution_count": 15,
   "id": "e6532908",
   "metadata": {},
   "outputs": [
    {
     "data": {
      "image/png": "[encoded data removed]",
      "text/plain": [
       "<Figure size 720x288 with 3 Axes>"
      ]
     },
     "metadata": {
      "needs_background": "light"
     },
     "output_type": "display_data"
    }
   ],
   "source": [
    "np.random.seed(42)\n",
    "theta = np.random.randn(2,1)  # random initialization\n",
    "\n",
    "plt.figure(figsize=(10,4))\n",
    "plt.subplot(131); plot_gradient_descent(theta, eta=0.02)\n",
    "plt.ylabel(\"$y$\", rotation=0, fontsize=18)\n",
    "plt.subplot(132); plot_gradient_descent(theta, eta=0.1, theta_path=theta_path_bgd)\n",
    "plt.subplot(133); plot_gradient_descent(theta, eta=0.5)\n",
    "\n",
    "plt.show()"
   ]
  },
  {
   "cell_type": "markdown",
   "id": "50b557d5",
   "metadata": {},
   "source": [
    "## 4.2.2 확률적 경사 하강법"
   ]
  },
  {
   "cell_type": "markdown",
   "id": "b30c4043",
   "metadata": {},
   "source": [
    "매 스텝에서 한개의 샘플을 무작위로 선택 후 그 샘플에 대한 그래디언트를 계산"
   ]
  },
  {
   "cell_type": "markdown",
   "id": "e56c87ec",
   "metadata": {},
   "source": [
    "비용함수가 매우 불규칠 -> 알고리즘이 지역최솟값을 건너뛸 수 있도록 도와주므로 확률적 경사하강법이 배치 경사 하강법보다 전역최솟값ㅇ르 찾을 가능성이 높음"
   ]
  },
  {
   "cell_type": "code",
   "execution_count": 16,
   "id": "3f562d5b",
   "metadata": {},
   "outputs": [],
   "source": [
    "n_epochs = 50\n",
    "t0, t1 = 5, 50\n",
    "\n",
    "def learning_schedule(t):\n",
    "    return t0 / (t+t1)\n",
    "\n",
    "theta = np.random.randn(2, 1)\n",
    "\n",
    "for epoch in range(n_epochs):\n",
    "    for i in range(m):\n",
    "        random_index = np.random.randint(m)\n",
    "        xi = X_b[random_index:random_index+1]\n",
    "        yi = y[random_index:random_index+1]\n",
    "        gradients = 2* xi.T.dot(xi.dot(theta)-yi)\n",
    "        theta = theta-eta * gradients"
   ]
  },
  {
   "cell_type": "code",
   "execution_count": 17,
   "id": "0ecfed6d",
   "metadata": {},
   "outputs": [
    {
     "data": {
      "text/plain": [
       "array([[4.51230525],\n",
       "       [3.0308627 ]])"
      ]
     },
     "execution_count": 17,
     "metadata": {},
     "output_type": "execute_result"
    }
   ],
   "source": [
    "theta"
   ]
  },
  {
   "cell_type": "code",
   "execution_count": 19,
   "id": "f258de78",
   "metadata": {},
   "outputs": [
    {
     "data": {
      "image/png": "[encoded data removed]",
      "text/plain": [
       "<Figure size 432x288 with 1 Axes>"
      ]
     },
     "metadata": {
      "needs_background": "light"
     },
     "output_type": "display_data"
    }
   ],
   "source": [
    "\n",
    "theta_path_sgd = []\n",
    "n_epochs = 50\n",
    "t0, t1 = 5, 50  # 학습 스케줄 하이퍼파라미터 learning schedule hyperparameters\n",
    "\n",
    "def learning_schedule(t):\n",
    "    return t0 / (t + t1)\n",
    "\n",
    "theta = np.random.randn(2,1)  # 무작위 초기화\n",
    "\n",
    "for epoch in range(n_epochs):\n",
    "    for i in range(m):\n",
    "        if epoch == 0 and i < 20:                    # 책에는 빠짐\n",
    "            y_predict = X_new_b.dot(theta)           # 책에는 빠짐\n",
    "            style = \"b-\" if i > 0 else \"r--\"         # 책에는 빠짐\n",
    "            plt.plot(X_new, y_predict, style)        # 책에는 빠짐\n",
    "        random_index = np.random.randint(m)\n",
    "        xi = X_b[random_index:random_index+1]\n",
    "        yi = y[random_index:random_index+1]\n",
    "        gradients = 2 * xi.T.dot(xi.dot(theta) - yi)\n",
    "        eta = learning_schedule(epoch * m + i)\n",
    "        theta = theta - eta * gradients\n",
    "        theta_path_sgd.append(theta)                 # 책에는 빠짐\n",
    "\n",
    "plt.plot(X, y, \"b.\")                                 # 책에는 빠짐\n",
    "plt.xlabel(\"$x_1$\", fontsize=18)                     # 책에는 빠짐\n",
    "plt.ylabel(\"$y$\", rotation=0, fontsize=18)           # 책에는 빠짐\n",
    "plt.axis([0, 2, 0, 15])                              # 책에는 빠짐\n",
    "plt.show()                                           # 책에는 빠짐"
   ]
  },
  {
   "cell_type": "code",
   "execution_count": 22,
   "id": "5c7353a9",
   "metadata": {},
   "outputs": [
    {
     "data": {
      "text/plain": [
       "SGDRegressor(eta0=0.1, max_iter=50, penalty=None)"
      ]
     },
     "execution_count": 22,
     "metadata": {},
     "output_type": "execute_result"
    }
   ],
   "source": [
    "from sklearn.linear_model import SGDRegressor\n",
    "sgd_reg = SGDRegressor(max_iter= 50, penalty= None, eta0 = 0.1)\n",
    "sgd_reg.fit(X, y.ravel())"
   ]
  },
  {
   "cell_type": "code",
   "execution_count": 23,
   "id": "49fd6e30",
   "metadata": {},
   "outputs": [
    {
     "data": {
      "text/plain": [
       "(array([4.49718113]), array([2.98977032]))"
      ]
     },
     "execution_count": 23,
     "metadata": {},
     "output_type": "execute_result"
    }
   ],
   "source": [
    "sgd_reg.intercept_, sgd_reg.coef_"
   ]
  },
  {
   "cell_type": "markdown",
   "id": "4de1f914",
   "metadata": {},
   "source": [
    "## 4.2.3 미니배치 경사 하강법"
   ]
  },
  {
   "cell_type": "markdown",
   "id": "510b7bf1",
   "metadata": {},
   "source": [
    "미니배치라 부르는 임의의 작은 샘플 세트에 대해 그래디언트를 계산"
   ]
  },
  {
   "cell_type": "markdown",
   "id": "e51d843e",
   "metadata": {},
   "source": [
    "sgd보다 최솟값에 더 가까이에 도달 + 지역최솟값에서 빠져나오기 힘듦"
   ]
  },
  {
   "cell_type": "markdown",
   "id": "c89cddec",
   "metadata": {},
   "source": [
    "## 4.3 다항회귀"
   ]
  },
  {
   "cell_type": "code",
   "execution_count": 30,
   "id": "d95c1092",
   "metadata": {},
   "outputs": [],
   "source": [
    "m = 100\n",
    "X = 6*np.random.rand(m, 1) - 3\n",
    "y = 0.5 * X**2 + X+2+np.random.randn(m, 1)"
   ]
  },
  {
   "cell_type": "code",
   "execution_count": 31,
   "id": "3cc62457",
   "metadata": {},
   "outputs": [
    {
     "data": {
      "text/plain": [
       "array([-0.68668499])"
      ]
     },
     "execution_count": 31,
     "metadata": {},
     "output_type": "execute_result"
    }
   ],
   "source": [
    "from sklearn.preprocessing import PolynomialFeatures\n",
    "poly_features=  PolynomialFeatures(degree=2, include_bias = False)\n",
    "X_poly = poly_features.fit_transform(X)\n",
    "X[0]"
   ]
  },
  {
   "cell_type": "code",
   "execution_count": 32,
   "id": "7c7c17ab",
   "metadata": {},
   "outputs": [
    {
     "data": {
      "text/plain": [
       "array([-0.68668499,  0.47153628])"
      ]
     },
     "execution_count": 32,
     "metadata": {},
     "output_type": "execute_result"
    }
   ],
   "source": [
    "X_poly[0]"
   ]
  },
  {
   "cell_type": "markdown",
   "id": "e233ba01",
   "metadata": {},
   "source": [
    "-> X_poly는 특성 X와 특성의 제곱을 포함함 \\\n",
    "확장된 훈련데이터에 Linear Regression 적용"
   ]
  },
  {
   "cell_type": "code",
   "execution_count": 33,
   "id": "fa952d43",
   "metadata": {},
   "outputs": [
    {
     "data": {
      "text/plain": [
       "(array([2.03624866]), array([[0.90940492, 0.50456857]]))"
      ]
     },
     "execution_count": 33,
     "metadata": {},
     "output_type": "execute_result"
    }
   ],
   "source": [
    "lin_reg = LinearRegression()\n",
    "lin_reg.fit(X_poly, y)\n",
    "lin_reg.intercept_, lin_reg.coef_"
   ]
  },
  {
   "cell_type": "code",
   "execution_count": 34,
   "id": "f42cd0d7",
   "metadata": {},
   "outputs": [
    {
     "data": {
      "image/png": "[encoded data removed]",
      "text/plain": [
       "<Figure size 432x288 with 1 Axes>"
      ]
     },
     "metadata": {
      "needs_background": "light"
     },
     "output_type": "display_data"
    }
   ],
   "source": [
    "X_new=np.linspace(-3, 3, 100).reshape(100, 1)\n",
    "X_new_poly = poly_features.transform(X_new)\n",
    "y_new = lin_reg.predict(X_new_poly)\n",
    "plt.plot(X, y, \"b.\")\n",
    "plt.plot(X_new, y_new, \"r-\", linewidth=2, label=\"예측\")\n",
    "plt.xlabel(\"$x_1$\", fontsize=18)\n",
    "plt.ylabel(\"$y$\", rotation=0, fontsize=18)\n",
    "plt.legend(loc=\"upper left\", fontsize=14)\n",
    "plt.axis([-3, 3, 0, 10])\n",
    "plt.show()"
   ]
  },
  {
   "cell_type": "markdown",
   "id": "d0eccf13",
   "metadata": {},
   "source": [
    "## 4.4 학습곡선"
   ]
  },
  {
   "cell_type": "markdown",
   "id": "8611dc0f",
   "metadata": {},
   "source": [
    "훈련세트와 검증세트의 모델 성능을 훈련세트 크기의 함수로 나타냄"
   ]
  },
  {
   "cell_type": "markdown",
   "id": "a2e4529a",
   "metadata": {},
   "source": [
    "편향/분산 트레이드오프\n",
    "\n",
    "편향 \\\n",
    "일반화 오차중에서 편향은 잘못된 가정으로 인한 것 -> 과소적합되기 쉬움 \\\n",
    "\n",
    "분산\\\n",
    "훈련데이터에 있는 작은 변동에 모델이 과도하게 민감하기 때문에 나타남 \\\n",
    "자유도가 높으면 보통 높은 분산 -> 과대적합 \\\n",
    "\n",
    "줄일 수 없는 오차\\\n",
    "데이터 자체에 있는 노이즈 때문에 발생 \\\n",
    "-> 노이즈 제거하기"
   ]
  },
  {
   "cell_type": "markdown",
   "id": "1272a1e9",
   "metadata": {},
   "source": [
    "#### 모델의 복잡도 커짐 -> 분산 커짐 -> 편향 줄어듦"
   ]
  },
  {
   "cell_type": "markdown",
   "id": "8d5de0cd",
   "metadata": {},
   "source": [
    "## 4.5 규제가 있는 선형 모델"
   ]
  },
  {
   "cell_type": "markdown",
   "id": "81fe019e",
   "metadata": {},
   "source": [
    "### 4.5.1 릿지회귀"
   ]
  },
  {
   "cell_type": "markdown",
   "id": "9c4b1063",
   "metadata": {},
   "source": [
    "규제가 추가된 선형 회귀 버전 \\\n",
    "규제항이 비용함수에 추가됨\n",
    "\n",
    "모델의 가중치가 가능한 한 작게 유지되도록 노력함"
   ]
  },
  {
   "cell_type": "markdown",
   "id": "6c5f4e85",
   "metadata": {},
   "source": [
    "a는 모델을 얼마나 규제할지 조절함 \\\n",
    "a = 0이면 릿지회귀 = 선형회귀\\\n",
    "a가 아주 크면 모든 가중치가 0에 가까워지고 데이터의 평균을 지나는 수평선이 됨 "
   ]
  },
  {
   "cell_type": "markdown",
   "id": "802cb4a7",
   "metadata": {},
   "source": [
    "### 4.5.2 라쏘회귀"
   ]
  },
  {
   "cell_type": "markdown",
   "id": "14be0403",
   "metadata": {},
   "source": [
    "비용함수에 규제항을 더하지만 노름의 제곱을 2로 나눈것 대신 벡터의 l1노름을 사용"
   ]
  },
  {
   "cell_type": "markdown",
   "id": "63d3d3b5",
   "metadata": {},
   "source": [
    "덜중요한 특성의 가중치를 제거하려고 함\\\n",
    "자동으로 특성을 선택하고 희소모델을 만듦\\\n"
   ]
  },
  {
   "cell_type": "markdown",
   "id": "8f67dc9d",
   "metadata": {},
   "source": [
    "### 4.5.3 엘라스틱넷"
   ]
  },
  {
   "cell_type": "markdown",
   "id": "ab6c519c",
   "metadata": {},
   "source": [
    "릿지회귀와 라쏘회귀를 절충한 모델\\\n",
    "\n",
    "r = 0 -> 릿지회귀\\\n",
    "r = 1 -> 라쏘회귀\\"
   ]
  },
  {
   "cell_type": "markdown",
   "id": "0935a8f1",
   "metadata": {},
   "source": [
    "### 4.5.4 조기종료"
   ]
  },
  {
   "cell_type": "markdown",
   "id": "9619fa3a",
   "metadata": {},
   "source": [
    "## 4.6 로지스틱 회귀"
   ]
  },
  {
   "cell_type": "markdown",
   "id": "7c605e43",
   "metadata": {},
   "source": [
    "## 4.6.3 결정경계"
   ]
  },
  {
   "cell_type": "code",
   "execution_count": 39,
   "id": "11763d28",
   "metadata": {},
   "outputs": [
    {
     "data": {
      "text/plain": [
       "['data',\n",
       " 'target',\n",
       " 'frame',\n",
       " 'target_names',\n",
       " 'DESCR',\n",
       " 'feature_names',\n",
       " 'filename',\n",
       " 'data_module']"
      ]
     },
     "execution_count": 39,
     "metadata": {},
     "output_type": "execute_result"
    }
   ],
   "source": [
    "from sklearn import datasets\n",
    "iris = datasets.load_iris()\n",
    "list(iris.keys())"
   ]
  },
  {
   "cell_type": "code",
   "execution_count": 40,
   "id": "37faa6ff",
   "metadata": {},
   "outputs": [],
   "source": [
    "X = iris['data'][:, 3:]\n",
    "y = (iris['target']==2).astype(np.int)"
   ]
  },
  {
   "cell_type": "code",
   "execution_count": 42,
   "id": "decddd35",
   "metadata": {},
   "outputs": [
    {
     "data": {
      "text/plain": [
       "LogisticRegression(solver='liblinear')"
      ]
     },
     "execution_count": 42,
     "metadata": {},
     "output_type": "execute_result"
    }
   ],
   "source": [
    "from sklearn.linear_model import LogisticRegression\n",
    "\n",
    "log_reg = LogisticRegression(solver='liblinear')\n",
    "# 최적화 문제에 사용할 알고리즘 작은 데이터세트의 경우 liblinear가 좋음\n",
    "# 큰 데이터셋일 경우는 sag와 saga 사용\n",
    "log_reg.fit(X, y)"
   ]
  },
  {
   "cell_type": "code",
   "execution_count": 43,
   "id": "79379365",
   "metadata": {},
   "outputs": [
    {
     "data": {
      "image/png": "[encoded data removed]",
      "text/plain": [
       "<Figure size 576x216 with 1 Axes>"
      ]
     },
     "metadata": {
      "needs_background": "light"
     },
     "output_type": "display_data"
    }
   ],
   "source": [
    "X_new = np.linspace(0, 3, 1000).reshape(-1, 1)\n",
    "y_proba = log_reg.predict_proba(X_new)\n",
    "decision_boundary = X_new[y_proba[:, 1] >= 0.5][0]\n",
    "\n",
    "plt.figure(figsize=(8, 3))\n",
    "plt.plot(X[y==0], y[y==0], \"bs\")\n",
    "plt.plot(X[y==1], y[y==1], \"g^\")\n",
    "plt.plot([decision_boundary, decision_boundary], [-1, 2], \"k:\", linewidth=2)\n",
    "plt.plot(X_new, y_proba[:, 1], \"g-\", linewidth=2, label=\"Iris-Virginica\")\n",
    "plt.plot(X_new, y_proba[:, 0], \"b--\", linewidth=2, label=\"Not Iris-Virginica\")\n",
    "plt.text(decision_boundary+0.02, 0.15, \"결정 경계\", fontsize=14, color=\"k\", ha=\"center\")\n",
    "plt.arrow(decision_boundary, 0.08, -0.3, 0, head_width=0.05, head_length=0.1, fc='b', ec='b')\n",
    "plt.arrow(decision_boundary, 0.92, 0.3, 0, head_width=0.05, head_length=0.1, fc='g', ec='g')\n",
    "plt.xlabel(\"꽃잎의 폭 (cm)\", fontsize=14)\n",
    "plt.ylabel(\"확률\", fontsize=14)\n",
    "plt.legend(loc=\"center left\", fontsize=14)\n",
    "plt.axis([0, 3, -0.02, 1.02])\n",
    "plt.show()"
   ]
  },
  {
   "cell_type": "code",
   "execution_count": 45,
   "id": "192c3198",
   "metadata": {},
   "outputs": [],
   "source": [
    "## 꽃잎 너비가 1.6 보다 크면 분류기는 verginica로 분류 작으면 아니라고예측"
   ]
  },
  {
   "cell_type": "code",
   "execution_count": 44,
   "id": "0e1ea6fa",
   "metadata": {},
   "outputs": [
    {
     "data": {
      "text/plain": [
       "array([1, 0])"
      ]
     },
     "execution_count": 44,
     "metadata": {},
     "output_type": "execute_result"
    }
   ],
   "source": [
    "log_reg.predict([[1.7],[1.5]])"
   ]
  },
  {
   "cell_type": "code",
   "execution_count": 46,
   "id": "a051e427",
   "metadata": {},
   "outputs": [
    {
     "data": {
      "image/png": "[encoded data removed]",
      "text/plain": [
       "<Figure size 720x288 with 1 Axes>"
      ]
     },
     "metadata": {
      "needs_background": "light"
     },
     "output_type": "display_data"
    }
   ],
   "source": [
    "from sklearn.linear_model import LogisticRegression\n",
    "\n",
    "X = iris[\"data\"][:, (2, 3)]  # petal length, petal width\n",
    "y = (iris[\"target\"] == 2).astype(np.int)\n",
    "\n",
    "log_reg = LogisticRegression(solver='liblinear', C=10**10, random_state=42)\n",
    "log_reg.fit(X, y)\n",
    "\n",
    "x0, x1 = np.meshgrid(\n",
    "        np.linspace(2.9, 7, 500).reshape(-1, 1),\n",
    "        np.linspace(0.8, 2.7, 200).reshape(-1, 1),\n",
    "    )\n",
    "X_new = np.c_[x0.ravel(), x1.ravel()]\n",
    "\n",
    "y_proba = log_reg.predict_proba(X_new)\n",
    "\n",
    "plt.figure(figsize=(10, 4))\n",
    "plt.plot(X[y==0, 0], X[y==0, 1], \"bs\")\n",
    "plt.plot(X[y==1, 0], X[y==1, 1], \"g^\")\n",
    "\n",
    "zz = y_proba[:, 1].reshape(x0.shape)\n",
    "contour = plt.contour(x0, x1, zz, cmap=plt.cm.brg)\n",
    "\n",
    "\n",
    "left_right = np.array([2.9, 7])\n",
    "boundary = -(log_reg.coef_[0][0] * left_right + log_reg.intercept_[0]) / log_reg.coef_[0][1]\n",
    "\n",
    "plt.clabel(contour, inline=1, fontsize=12)\n",
    "plt.plot(left_right, boundary, \"k--\", linewidth=3)\n",
    "plt.text(3.5, 1.5, \"Iris-Virginica 아님\", fontsize=14, color=\"b\", ha=\"center\")\n",
    "plt.text(6.5, 2.3, \"Iris-Virginica\", fontsize=14, color=\"g\", ha=\"center\")\n",
    "plt.xlabel(\"꽃잎의 길이\", fontsize=14)\n",
    "plt.ylabel(\"꽃잎의 폭\", fontsize=14)\n",
    "plt.axis([2.9, 7, 0.8, 2.7])\n",
    "plt.show()"
   ]
  },
  {
   "cell_type": "markdown",
   "id": "15abb489",
   "metadata": {},
   "source": [
    "### 4.6.4 소프트맥스 회귀"
   ]
  },
  {
   "cell_type": "markdown",
   "id": "0448e6a3",
   "metadata": {},
   "source": [
    "소프트맥스 회귀 = 다항 로지스틱 회귀 \\\n",
    "여러개의 이진 분류기를 훈련시켜 연결하지 않고 직접 다중 클래스를 지원하도록 일반화"
   ]
  },
  {
   "cell_type": "markdown",
   "id": "3f790ac9",
   "metadata": {},
   "source": [
    "샘플 x가 주어지면 소프트맥스 회귀모델이 각 클래스 k에 대한 점수를 계산하고 그 점수에 소프트맥스 함수를 적용하여 각 클래스의 확률을 추정함"
   ]
  },
  {
   "cell_type": "markdown",
   "id": "6a23d45d",
   "metadata": {},
   "source": [
    "소프트맥스 함수\\\n",
    "\n",
    "선택해야 하는 선택지 k 개\\\n",
    "k차원의 벡터를 입력받아 각 클래스에 대한 확률 추정"
   ]
  },
  {
   "cell_type": "code",
   "execution_count": 47,
   "id": "7037d36c",
   "metadata": {},
   "outputs": [
    {
     "data": {
      "text/plain": [
       "LogisticRegression(C=10, multi_class='multinomial')"
      ]
     },
     "execution_count": 47,
     "metadata": {},
     "output_type": "execute_result"
    }
   ],
   "source": [
    "X = iris['data'][:, (2, 3)]\n",
    "y = iris['target']\n",
    "\n",
    "softmax_reg = LogisticRegression(multi_class='multinomial', solver = 'lbfgs', C = 10)\n",
    "softmax_reg.fit(X, y)"
   ]
  },
  {
   "cell_type": "code",
   "execution_count": 48,
   "id": "ea39cb06",
   "metadata": {},
   "outputs": [
    {
     "data": {
      "text/plain": [
       "array([2])"
      ]
     },
     "execution_count": 48,
     "metadata": {},
     "output_type": "execute_result"
    }
   ],
   "source": [
    "softmax_reg.predict([[5, 2]])"
   ]
  },
  {
   "cell_type": "code",
   "execution_count": 49,
   "id": "38cd75e9",
   "metadata": {},
   "outputs": [
    {
     "data": {
      "text/plain": [
       "array([[-14.26490421,  -2.85609209,  -0.05921261]])"
      ]
     },
     "execution_count": 49,
     "metadata": {},
     "output_type": "execute_result"
    }
   ],
   "source": [
    "softmax_reg.predict_log_proba([[5, 2]])"
   ]
  },
  {
   "cell_type": "code",
   "execution_count": null,
   "id": "b178e743",
   "metadata": {},
   "outputs": [],
   "source": []
  }
 ],
 "metadata": {
  "kernelspec": {
   "display_name": "silcream",
   "language": "python",
   "name": "silcream"
  },
  "language_info": {
   "codemirror_mode": {
    "name": "ipython",
    "version": 3
   },
   "file_extension": ".py",
   "mimetype": "text/x-python",
   "name": "python",
   "nbconvert_exporter": "python",
   "pygments_lexer": "ipython3",
   "version": "3.7.13"
  }
 },
 "nbformat": 4,
 "nbformat_minor": 5
}
